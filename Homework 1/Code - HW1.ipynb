{
 "cells": [
  {
   "cell_type": "code",
   "execution_count": 30,
   "metadata": {},
   "outputs": [
    {
     "data": {
      "text/plain": [
       "'C:\\\\Users\\\\Kooroshoo\\\\Desktop\\\\data_hw1'"
      ]
     },
     "execution_count": 30,
     "metadata": {},
     "output_type": "execute_result"
    }
   ],
   "source": [
    "import pandas as pd\n",
    "import math\n",
    "import numpy as np\n",
    "import os\n",
    "\n",
    "import random\n",
    "import csv\n",
    "import statistics\n",
    "from matplotlib import pyplot as plt\n",
    "from sklearn.utils import resample\n",
    "\n",
    "%matplotlib inline\n",
    "\n",
    "os.getcwd()"
   ]
  },
  {
   "cell_type": "code",
   "execution_count": 3,
   "metadata": {},
   "outputs": [],
   "source": [
    "data1 = pd.read_csv(\"data_ex1.csv\", header= None)"
   ]
  },
  {
   "cell_type": "code",
   "execution_count": 4,
   "metadata": {},
   "outputs": [],
   "source": [
    "data1_sort = data1.sort_values(by = 0).reset_index()\n",
    "data1_sort = data1_sort.drop(['index'], axis = 1)\n",
    "def median_(data):\n",
    "    if((data.shape[0]/2)%2==0):\n",
    "        median_indexes = [int(data.shape[0]/2),int(data.shape[0]/2+1)]\n",
    "        median = sum(data[0][median_indexes])/2\n",
    "    else:\n",
    "        median_indexes = [int(data.shape[0]/2)]\n",
    "        median = data[0][median_indexes]\n",
    "#     print(median_indexes)\n",
    "    return(median)"
   ]
  },
  {
   "cell_type": "code",
   "execution_count": 5,
   "metadata": {},
   "outputs": [
    {
     "name": "stdout",
     "output_type": "stream",
     "text": [
      "The median value for the given samples is :  0.403\n"
     ]
    }
   ],
   "source": [
    "data1_median = median_(data1_sort)\n",
    "print(\"The median value for the given samples is : \", round(data1_median,3))"
   ]
  },
  {
   "cell_type": "code",
   "execution_count": 6,
   "metadata": {},
   "outputs": [],
   "source": [
    "def CI95(data):\n",
    "    n = data.shape[0]\n",
    "    low = round((0.5*n)-(0.98*math.sqrt(n)))\n",
    "    high = round(1+(0.5*n)+(0.98*math.sqrt(n)))\n",
    "#     print(low-1,high-1)\n",
    "    return [data[0][low-1], data[0][high-1]]"
   ]
  },
  {
   "cell_type": "code",
   "execution_count": 7,
   "metadata": {},
   "outputs": [
    {
     "name": "stdout",
     "output_type": "stream",
     "text": [
      "Solution 1.1\n",
      "The confidence interval values for the median of given samples is :  [0.383854469876595, 0.41665078181696]\n"
     ]
    }
   ],
   "source": [
    "print(\"Solution 1.1\")\n",
    "print(\"The confidence interval values for the median of given samples is : \", CI95(data1_sort))"
   ]
  },
  {
   "cell_type": "code",
   "execution_count": 8,
   "metadata": {},
   "outputs": [],
   "source": [
    "def mean_CI(data, CI):\n",
    "    n = data.shape[0]\n",
    "    mean_ = sum(data[0])/n\n",
    "    # print(n, mean_)\n",
    "    var_ = sum((data[0]-mean_)**2)/(n-1)\n",
    "    sd_ = math.sqrt(var_)\n",
    "    # print(var_, sd_)\n",
    "    if(CI==0.95):\n",
    "        low = mean_-(1.96*(sd_/math.sqrt(n)))\n",
    "        high = mean_+(1.96*(sd_/math.sqrt(n)))\n",
    "    elif (CI==0.99):\n",
    "        low = mean_-(2.58*(sd_/math.sqrt(n)))\n",
    "        high = mean_+(2.58*(sd_/math.sqrt(n)))\n",
    "    return [mean_, low, high]"
   ]
  },
  {
   "cell_type": "markdown",
   "metadata": {},
   "source": [
    "To calculate the mean we have used the asymptotic case"
   ]
  },
  {
   "cell_type": "code",
   "execution_count": 9,
   "metadata": {},
   "outputs": [
    {
     "name": "stdout",
     "output_type": "stream",
     "text": [
      "Solution 1.2 - 95% CI\n",
      "[mean,               lower CI,            Upper CI]\n"
     ]
    },
    {
     "data": {
      "text/plain": [
       "[0.4102045805827238, 0.39886862084329877, 0.4215405403221488]"
      ]
     },
     "execution_count": 9,
     "metadata": {},
     "output_type": "execute_result"
    }
   ],
   "source": [
    "print(\"Solution 1.2 - 95% CI\")\n",
    "print(\"[mean,               lower CI,            Upper CI]\")\n",
    "mean_CI(data1, 0.95)"
   ]
  },
  {
   "cell_type": "code",
   "execution_count": 10,
   "metadata": {},
   "outputs": [
    {
     "name": "stdout",
     "output_type": "stream",
     "text": [
      "Solution 1.2 - 99% CI\n",
      "[mean,               lower CI,            Upper CI]\n"
     ]
    },
    {
     "data": {
      "text/plain": [
       "[0.4102045805827238, 0.39528275602776636, 0.42512640513768124]"
      ]
     },
     "execution_count": 10,
     "metadata": {},
     "output_type": "execute_result"
    }
   ],
   "source": [
    "print(\"Solution 1.2 - 99% CI\")\n",
    "print(\"[mean,               lower CI,            Upper CI]\")\n",
    "mean_CI(data1, 0.99)"
   ]
  },
  {
   "cell_type": "code",
   "execution_count": 12,
   "metadata": {},
   "outputs": [],
   "source": [
    "data2 = pd.read_csv(\"data_ex2.csv\", header= None)"
   ]
  },
  {
   "cell_type": "code",
   "execution_count": 13,
   "metadata": {},
   "outputs": [
    {
     "name": "stdout",
     "output_type": "stream",
     "text": [
      "Solution 2.1\n",
      "[mean,               lower CI,            Upper CI]\n",
      "[3.1750482140829686, 2.9374884882508945, 3.4126079399150426]\n"
     ]
    }
   ],
   "source": [
    "print(\"Solution 2.1\")\n",
    "df2_row1 = data2[0:1].T\n",
    "mean_df2_row1 = mean_CI(df2_row1, 0.95)\n",
    "print(\"[mean,               lower CI,            Upper CI]\")\n",
    "print(mean_df2_row1)"
   ]
  },
  {
   "cell_type": "markdown",
   "metadata": {},
   "source": [
    "Out of 6000 mean of 4016 records fall within the CI of first row."
   ]
  },
  {
   "cell_type": "code",
   "execution_count": 14,
   "metadata": {},
   "outputs": [
    {
     "name": "stdout",
     "output_type": "stream",
     "text": [
      "Solution 2.2\n",
      "4016\n"
     ]
    },
    {
     "name": "stderr",
     "output_type": "stream",
     "text": [
      "D:\\Users\\Kooroshoo\\Anaconda3\\envs\\Python 3.6\\lib\\site-packages\\ipykernel_launcher.py:2: SettingWithCopyWarning: \n",
      "A value is trying to be set on a copy of a slice from a DataFrame.\n",
      "Try using .loc[row_indexer,col_indexer] = value instead\n",
      "\n",
      "See the caveats in the documentation: http://pandas.pydata.org/pandas-docs/stable/indexing.html#indexing-view-versus-copy\n",
      "  \n"
     ]
    }
   ],
   "source": [
    "df2 = data2[1:]\n",
    "df2['mean'] = df2.mean(axis = 1)\n",
    "print(\"Solution 2.2\")\n",
    "print(df2['mean'].loc[(df2['mean'].values >= mean_df2_row1[1]) & (df2['mean'].values <= mean_df2_row1[2])].count())"
   ]
  },
  {
   "cell_type": "code",
   "execution_count": 17,
   "metadata": {},
   "outputs": [],
   "source": [
    "data3 = pd.read_csv(\"data_ex3.csv\", header= None)"
   ]
  },
  {
   "cell_type": "code",
   "execution_count": 18,
   "metadata": {},
   "outputs": [
    {
     "name": "stdout",
     "output_type": "stream",
     "text": [
      "Solution 3.1\n",
      "CoV =  1.001469136252604\n",
      "Jain's Fairness Index =  0.4997664716207735\n",
      "Lorenz curve gap =  0.3623044470759574\n"
     ]
    }
   ],
   "source": [
    "print(\"Solution 3.1\")\n",
    "def CoV(data, i):\n",
    "    n = data.shape[0]\n",
    "    mean_ = sum(data[i])/n\n",
    "    # print(n, mean_)\n",
    "    var_ = sum((data[i]-mean_)**2)/(n-1)\n",
    "    sd_ = math.sqrt(var_)\n",
    "    cov = sd_/mean_\n",
    "    return cov, mean_\n",
    "COV_, m = CoV(data3, 0)\n",
    "\n",
    "def JFI(data, i):\n",
    "    j = ((data[i].sum())**2)/(data.shape[0]*(data[i]**2).sum())\n",
    "    return j\n",
    "JFI_ = JFI(data3, 0)\n",
    "\n",
    "def lorenz_gap(data, i):\n",
    "    n = data.shape[0]\n",
    "    mean_ = sum(data[i])/n\n",
    "    MAD = data[i].mad()\n",
    "    gap = MAD/(2*mean_)\n",
    "    return gap\n",
    "lor_gap = lorenz_gap(data3, 0)\n",
    "\n",
    "print(\"CoV = \", COV_)\n",
    "print(\"Jain's Fairness Index = \", JFI_)\n",
    "print(\"Lorenz curve gap = \", lor_gap)"
   ]
  },
  {
   "cell_type": "code",
   "execution_count": 27,
   "metadata": {},
   "outputs": [
    {
     "name": "stdout",
     "output_type": "stream",
     "text": [
      "Solution 3.2 - Lorenz Curve Plot\n"
     ]
    },
    {
     "data": {
      "text/plain": [
       "(array([155.,  94.,  66.,  69.,  29.,  25.,  16.,  19.,  11.,   4.,   1.,\n",
       "          3.,   2.,   0.,   3.,   1.,   0.,   0.,   0.,   2.]),\n",
       " array([7.34675010e-03, 1.43734079e+00, 2.86733483e+00, 4.29732887e+00,\n",
       "        5.72732291e+00, 7.15731695e+00, 8.58731099e+00, 1.00173050e+01,\n",
       "        1.14472991e+01, 1.28772931e+01, 1.43072871e+01, 1.57372812e+01,\n",
       "        1.71672752e+01, 1.85972693e+01, 2.00272633e+01, 2.14572573e+01,\n",
       "        2.28872514e+01, 2.43172454e+01, 2.57472395e+01, 2.71772335e+01,\n",
       "        2.86072275e+01]),\n",
       " <a list of 20 Patch objects>)"
      ]
     },
     "execution_count": 27,
     "metadata": {},
     "output_type": "execute_result"
    },
    {
     "data": {
      "image/png": "[encoded data removed]",
      "text/plain": [
       "<Figure size 432x288 with 2 Axes>"
      ]
     },
     "metadata": {
      "needs_background": "light"
     },
     "output_type": "display_data"
    }
   ],
   "source": [
    "print(\"Solution 3.2 - Lorenz Curve Plot\")\n",
    "def G(v):\n",
    "    bins = np.linspace(0., 100., 11)\n",
    "    total = float(np.sum(v))\n",
    "    yvals = []\n",
    "    for b in bins:\n",
    "        bin_vals = v[v <= np.percentile(v, b)]\n",
    "        bin_fraction = (np.sum(bin_vals) / total) * 100.0\n",
    "        yvals.append(bin_fraction)\n",
    "    # perfect equality area\n",
    "    pe_area = np.trapz(bins, x=bins)\n",
    "    # lorenz area\n",
    "    lorenz_area = np.trapz(yvals, x=bins)\n",
    "    gini_val = (pe_area - lorenz_area) / float(pe_area)\n",
    "    return bins, yvals, gini_val\n",
    "\n",
    "v = np.array(data3)\n",
    "bins, result, gini_val = G(v)\n",
    "plt.figure()\n",
    "plt.subplot(2, 1, 1)\n",
    "plt.plot(bins, result, label=\"observed\")\n",
    "plt.plot(bins, bins, '--', label=\"perfect eq.\")\n",
    "plt.title(\"GINI: %.4f\" %(gini_val))\n",
    "plt.legend()\n",
    "plt.subplot(2, 1, 2)\n",
    "plt.hist(v, bins=20)"
   ]
  },
  {
   "cell_type": "code",
   "execution_count": 31,
   "metadata": {},
   "outputs": [],
   "source": [
    "def bootStrap(data, CI = 0.95):\n",
    "    R = math.ceil(2 * (25 / (1-CI)))-1\n",
    "    df3_99 = data.copy(deep= True)\n",
    "    df3_99 = df3_99.sort_values([0], ascending = True).reset_index(drop = True)\n",
    "    for i in range(1, R+1):\n",
    "        boot = resample(df3_99[0], replace=True, n_samples=df3_99.shape[0], random_state=i)\n",
    "        df3_99[i] = boot.sort_values().reset_index(drop = True).values\n",
    "    df3_99.drop([0], axis = 1, inplace= True)\n",
    "    cov_, mean_, jfi_, lor_gap_, std_dev_ = [], [], [], [], []\n",
    "    for i in range(1, R+1):\n",
    "        COV, mean = CoV(df3_99, i)\n",
    "        jfi_.append(JFI(df3_99, i))\n",
    "        lor_gap_.append(lorenz_gap(df3_99, i))\n",
    "        cov_.append(COV)\n",
    "        mean_.append(mean)\n",
    "        std_dev_.append(COV*mean)\n",
    "    df3_99_boot = df3_99.T.copy(deep = True)\n",
    "    df3_99_boot['mean'] = mean_\n",
    "    df3_99_boot['std_dev'] = std_dev_\n",
    "    df3_99_boot['jfi'] = jfi_\n",
    "    df3_99_boot['lor_gap'] = lor_gap_\n",
    "    print('Statistics with bootstrap confidence interval:', CI) \n",
    "    temp = df3_99_boot.sort_values(['mean'], ascending = True, inplace = False).reset_index(drop = True)\n",
    "    print('mean is [{}, {}]'.format(temp['mean'][24], temp['mean'][R-25]))\n",
    "    temp = df3_99_boot.sort_values(['std_dev'], ascending = True, inplace = False).reset_index(drop = True)\n",
    "    print('Standard Deviation is [{}, {}]'.format(temp['std_dev'][24], temp['std_dev'][R-25]))\n",
    "    temp = df3_99_boot.sort_values(['jfi'], ascending = True, inplace = False).reset_index(drop = True)\n",
    "    print('Jain''s Fairness Index is [{}, {}]'.format(temp['jfi'][24], temp['jfi'][R-25]))\n",
    "    temp = df3_99_boot.sort_values(['lor_gap'], ascending = True, inplace = False).reset_index(drop = True)\n",
    "    print('Lorenz curve gap is [{}, {}]'.format(temp['lor_gap'][24], temp['lor_gap'][R-25]))"
   ]
  },
  {
   "cell_type": "code",
   "execution_count": 32,
   "metadata": {
    "scrolled": true
   },
   "outputs": [
    {
     "name": "stdout",
     "output_type": "stream",
     "text": [
      "Solution 3.3\n",
      "Statistics with bootstrap confidence interval: 0.95\n",
      "mean is [3.6942580181736577, 4.441715095481477]\n",
      "Standard Deviation is [3.5538741466814567, 4.591299596017268]\n",
      "Jains Fairness Index is [0.4594111544015242, 0.5448463935299482]\n",
      "Lorenz curve gap is [0.34142416873930176, 0.38451457470013256]\n",
      "Statistics with bootstrap confidence interval: 0.99\n",
      "mean is [3.600858140036771, 4.551081229138013]\n",
      "Standard Deviation is [3.4278292973037163, 4.7871405640242735]\n",
      "Jains Fairness Index is [0.44575956869416966, 0.5611767152289968]\n",
      "Lorenz curve gap is [0.33379382478974945, 0.3915404203309718]\n"
     ]
    }
   ],
   "source": [
    "print(\"Solution 3.3\")\n",
    "bootStrap(data3)\n",
    "bootStrap(data3, 0.99)"
   ]
  },
  {
   "cell_type": "code",
   "execution_count": 33,
   "metadata": {},
   "outputs": [
    {
     "name": "stdout",
     "output_type": "stream",
     "text": [
      "Solution 3.4\n",
      "Asymptotic mean CI at 95% =  [3.7255847131058872, 4.442610450106189]\n",
      "Asymptotic mean CI at 99% =  [3.6121775812333903, 4.5560175819786854]\n"
     ]
    }
   ],
   "source": [
    "print(\"Solution 3.4\")\n",
    "def mean_CI2(data, i, CI):\n",
    "    n = data.shape[0]\n",
    "    mean_ = sum(data[i])/n\n",
    "    # print(n, mean_)\n",
    "    var_ = sum((data[i]-mean_)**2)/(n-1)\n",
    "    sd_ = math.sqrt(var_)\n",
    "    # print(var_, sd_)\n",
    "    if(CI==0.95):\n",
    "        low = mean_-(1.96*(sd_/math.sqrt(n)))\n",
    "        high = mean_+(1.96*(sd_/math.sqrt(n)))\n",
    "    elif (CI==0.99):\n",
    "        low = mean_-(2.58*(sd_/math.sqrt(n)))\n",
    "        high = mean_+(2.58*(sd_/math.sqrt(n)))\n",
    "    return [low, high]\n",
    "boot_mean_CI_95 = mean_CI2(data3, 0, 0.95)\n",
    "boot_mean_CI_99 = mean_CI2(data3, 0, 0.99)\n",
    "print(\"Asymptotic mean CI at 95% = \", boot_mean_CI_95)\n",
    "print(\"Asymptotic mean CI at 99% = \", boot_mean_CI_99)"
   ]
  },
  {
   "cell_type": "markdown",
   "metadata": {},
   "source": [
    "The mean for the bootstrap method and asymptotic method are quite similar"
   ]
  },
  {
   "cell_type": "code",
   "execution_count": 34,
   "metadata": {},
   "outputs": [],
   "source": [
    "data4 = pd.read_csv(\"data_ex4.csv\", header= None)"
   ]
  },
  {
   "cell_type": "code",
   "execution_count": 35,
   "metadata": {},
   "outputs": [
    {
     "name": "stdout",
     "output_type": "stream",
     "text": [
      "Solution 4.1\n",
      "Statistics with bootstrap confidence interval: 0.95\n",
      "mean is [98.15345774280443, 12028.567062933795]\n",
      "Standard Deviation is [1070.6326309834556, 146214.2732418629]\n",
      "Jains Fairness Index is [0.0021157032245058146, 0.015949919359740748]\n",
      "Lorenz curve gap is [0.8602782176742729, 0.9866989960496751]\n",
      "Statistics with bootstrap confidence interval: 0.99\n",
      "mean is [63.02470424147407, 15901.078784220806]\n",
      "Standard Deviation is [388.1523336454907, 168632.49923243484]\n",
      "Jains Fairness Index is [0.0020611348558786657, 0.02949943574692878]\n",
      "Lorenz curve gap is [0.8287108133383393, 0.988690696138274]\n"
     ]
    }
   ],
   "source": [
    "print(\"Solution 4.1\")\n",
    "bootStrap(data4)\n",
    "bootStrap(data4, .99)"
   ]
  },
  {
   "cell_type": "markdown",
   "metadata": {},
   "source": [
    "The mean for the bootstrap method and asymptotic method are extremely different for lower bounds"
   ]
  },
  {
   "cell_type": "code",
   "execution_count": 36,
   "metadata": {},
   "outputs": [
    {
     "name": "stdout",
     "output_type": "stream",
     "text": [
      "Solution 4.2\n",
      "Asymptotic mean CI at 95% =  [-3226.47838441411, 11613.131044854912]\n",
      "Asymptotic mean CI at 99% =  [-5573.559467614823, 13960.212128055626]\n"
     ]
    }
   ],
   "source": [
    "print(\"Solution 4.2\")\n",
    "from sklearn.utils import resample\n",
    "boot4 = resample(data4[0], replace=True, n_samples=data4.shape[0], random_state=1)\n",
    "data4[1] = boot4.values\n",
    "print(\"Asymptotic mean CI at 95% = \", mean_CI2(data4, 0, 0.95))\n",
    "print(\"Asymptotic mean CI at 99% = \", mean_CI2(data4, 0, 0.99))"
   ]
  },
  {
   "cell_type": "code",
   "execution_count": 37,
   "metadata": {},
   "outputs": [
    {
     "name": "stdout",
     "output_type": "stream",
     "text": [
      "Solution 4.3\n",
      "mean CI at 95% for natural log transformed data =  [0.5924290461995133, 1.0491192984425697]\n",
      "mean CI at 99% for natural log transformed data =  [0.5201974246712748, 1.121350919970808]\n"
     ]
    }
   ],
   "source": [
    "print(\"Solution 4.3\")\n",
    "data4['nat_log'] = np.log(data4[0])\n",
    "print(\"mean CI at 95% for natural log transformed data = \", mean_CI2(data4, 'nat_log', 0.95))\n",
    "print(\"mean CI at 99% for natural log transformed data = \", mean_CI2(data4, 'nat_log', 0.99))"
   ]
  },
  {
   "cell_type": "code",
   "execution_count": 39,
   "metadata": {},
   "outputs": [],
   "source": [
    "data5 = pd.read_csv(\"data_ex5.csv\", header= None)\n",
    "data5 = data5.T"
   ]
  },
  {
   "cell_type": "code",
   "execution_count": 40,
   "metadata": {},
   "outputs": [
    {
     "name": "stdout",
     "output_type": "stream",
     "text": [
      "Solution 5.1\n",
      "CI at 95% =  [0.10450182934991514, 0.14549817065008486]\n",
      "CI at 99% =  [0.09801771414427607, 0.15198228585572393]\n"
     ]
    }
   ],
   "source": [
    "print(\"Solution 5.1\")\n",
    "def CI_binom(data, CI):\n",
    "    n = data.shape[0]\n",
    "    suc = (data[0].value_counts()[1])/n\n",
    "    fail = 1-suc\n",
    "#     print(n, suc, fail)\n",
    "    if(CI==0.95):\n",
    "        low = suc - (1.96 * math.sqrt((suc*fail)/n))\n",
    "        high = suc + (1.96 * math.sqrt((suc*fail)/n))\n",
    "    elif (CI==0.99):\n",
    "        low = suc - (2.58 * math.sqrt((suc*fail)/n))\n",
    "        high = suc + (2.58 * math.sqrt((suc*fail)/n))\n",
    "    return [low, high]\n",
    "print(\"CI at 95% = \", CI_binom(data5, .95))\n",
    "print(\"CI at 99% = \",CI_binom(data5, .99))"
   ]
  },
  {
   "cell_type": "code",
   "execution_count": 41,
   "metadata": {},
   "outputs": [
    {
     "name": "stdout",
     "output_type": "stream",
     "text": [
      "Solution 5.2\n",
      "Using Rule of three - for when no successes are observed - CI=  [0, 0.2]\n"
     ]
    }
   ],
   "source": [
    "df5 = data5[:15]\n",
    "print(\"Solution 5.2\")\n",
    "print(\"Using Rule of three - for when no successes are observed - CI= \", [0, 3/df5.shape[0]])"
   ]
  },
  {
   "cell_type": "code",
   "execution_count": null,
   "metadata": {},
   "outputs": [],
   "source": []
  }
 ],
 "metadata": {
  "kernelspec": {
   "display_name": "Python 3",
   "language": "python",
   "name": "python3"
  },
  "language_info": {
   "codemirror_mode": {
    "name": "ipython",
    "version": 3
   },
   "file_extension": ".py",
   "mimetype": "text/x-python",
   "name": "python",
   "nbconvert_exporter": "python",
   "pygments_lexer": "ipython3",
   "version": "3.6.8"
  }
 },
 "nbformat": 4,
 "nbformat_minor": 2
}
